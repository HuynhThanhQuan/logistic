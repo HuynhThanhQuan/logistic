{
 "cells": [
  {
   "cell_type": "code",
   "execution_count": 84,
   "metadata": {},
   "outputs": [],
   "source": [
    "%run static_route.ipynb"
   ]
  },
  {
   "cell_type": "code",
   "execution_count": 85,
   "metadata": {},
   "outputs": [],
   "source": [
    "%run solution.ipynb"
   ]
  },
  {
   "cell_type": "code",
   "execution_count": 86,
   "metadata": {},
   "outputs": [],
   "source": [
    "def load_static_data(static_folder='./static'):\n",
    "    coordinates = pd.read_csv(os.path.join(static_folder, 'coordinate.csv'))\n",
    "    directions = json.load(open(os.path.join(static_folder, 'direction.json')))\n",
    "    distance_matrix = np.loadtxt(open(os.path.join(static_folder, 'distance_matrix.txt')))\n",
    "    geocodes = json.load(open(os.path.join(static_folder, 'geocode.json')))\n",
    "    return {'coordinate': coordinates, \n",
    "            'direction': directions, \n",
    "            'distance_matrix': distance_matrix, \n",
    "            'geocode': geocodes}\n",
    "                           \n",
    "def print_problem_summary(num_stores, depart_time, finish_time=None):\n",
    "    print('Total Store: ', num_stores)\n",
    "    print('Total Warehouse: 1')\n",
    "    print('Departure time: ', depart_time)\n",
    "    print('Finished time: ', finish_time)\n",
    "\n",
    "def execute(filename, desc=False):\n",
    "    file_data = '../data/tw_data/{}.txt'.format(filename)\n",
    "    json_filename = os.path.join('..', 'notebook', 'json_data', filename + '_tsptw.json')\n",
    "    if not os.path.exists(json_filename):\n",
    "        prob = VinMartProblemParser('../data/Location_BaDinh.xlsx', '../data/tw_data/{}.txt'.format(filename))\n",
    "        prob.parse(output='./json_data/%s' % filename)\n",
    "    static_data = load_static_data()\n",
    "    tsptw = TSPTW(static_data, metric='distance')\n",
    "    tsptw.read(json_filename)\n",
    "    tsptw.run()\n",
    "    vis = TSPTWVis(tsptw, rps=0.2)\n",
    "    if desc is True:\n",
    "        vis.print_readable_description()\n",
    "    return vis.draw_figure(save=False)"
   ]
  },
  {
   "cell_type": "code",
   "execution_count": 87,
   "metadata": {},
   "outputs": [
    {
     "name": "stdout",
     "output_type": "stream",
     "text": [
      "PARAMETER_FILE = ../format/93d2976b-f361-4ff2-b058-97ffa00a28c2.par\n",
      "Reading PROBLEM_FILE: \"../format/93d2976b-f361-4ff2-b058-97ffa00a28c2.tsptw\" ... done\n",
      "ASCENT_CANDIDATES = 25\n",
      "BACKBONE_TRIALS = 0\n",
      "BACKTRACKING = NO\n",
      "# BWTSP =\n",
      "# CANDIDATE_FILE =\n",
      "CANDIDATE_SET_TYPE = ALPHA\n",
      "# DEPOT =\n",
      "# EDGE_FILE =\n",
      "EXCESS = 0.0769231\n",
      "EXTERNAL_SALESMEN = 0\n",
      "EXTRA_CANDIDATES = 0 \n",
      "EXTRA_CANDIDATE_SET_TYPE = QUADRANT\n",
      "GAIN23 = YES\n",
      "GAIN_CRITERION = YES\n",
      "INITIAL_PERIOD = 100\n",
      "INITIAL_STEP_SIZE = 1\n",
      "INITIAL_TOUR_ALGORITHM = WALK\n",
      "# INITIAL_TOUR_FILE = \n",
      "INITIAL_TOUR_FRACTION = 1.000\n",
      "# INPUT_TOUR_FILE = \n",
      "KICK_TYPE = 0\n",
      "KICKS = 1\n",
      "# MAX_BREADTH =\n",
      "MAKESPAN = NO\n",
      "MAX_CANDIDATES = 5 \n",
      "MAX_SWAPS = 26\n",
      "MAX_TRIALS = 26\n",
      "# MERGE_TOUR_FILE =\n",
      "MOVE_TYPE = 5 \n",
      "# MTSP_MIN_SIZE =\n",
      "# MTSP_MAX_SIZE =\n",
      "# MTSP_OBJECTIVE =\n",
      "# MTSP_SOLUTION_FILE = \n",
      "# NONSEQUENTIAL_MOVE_TYPE = 5\n",
      "# OPTIMUM =\n",
      "# OUTPUT_TOUR_FILE = \n",
      "PATCHING_A = 1 \n",
      "PATCHING_C = 0 \n",
      "# PI_FILE = \n",
      "POPMUSIC_INITIAL_TOUR = NO\n",
      "POPMUSIC_MAX_NEIGHBORS = 5\n",
      "POPMUSIC_SAMPLE_SIZE = 10\n",
      "POPMUSIC_SOLUTIONS = 50\n",
      "POPMUSIC_TRIALS = 1\n",
      "# POPULATION_SIZE = 0\n",
      "PRECISION = 100\n",
      "PROBLEM_FILE = ../format/93d2976b-f361-4ff2-b058-97ffa00a28c2.tsptw\n",
      "RECOMBINATION = IPT\n",
      "RESTRICTED_SEARCH = YES\n",
      "RUNS = 10\n",
      "SALESMEN = 1\n",
      "SCALE = 1\n",
      "SEED = 1\n",
      "STOP_AT_OPTIMUM = YES\n",
      "SUBGRADIENT = YES\n",
      "# SUBPROBLEM_SIZE =\n",
      "# SUBPROBLEM_TOUR_FILE = \n",
      "SUBSEQUENT_MOVE_TYPE = 5 \n",
      "SUBSEQUENT_PATCHING = YES\n",
      "# TIME_LIMIT =\n",
      "TOUR_FILE = ../format/93d2976b-f361-4ff2-b058-97ffa00a28c2.sol\n",
      "TRACE_LEVEL = 1\n",
      "VEHICLES = 1\n",
      "\n",
      "Lower bound = 10774754.8, Ascent time = 0.00 sec.\n",
      "Cand.min = 2, Cand.avg = 4.9, Cand.max = 5\n",
      "Edges.fixed = 13 [Cost = 0]\n",
      "Preprocessing time = 0.00 sec.\n",
      "* 1: Cost = 138957249_10776024, Time = 0.00 sec. \n",
      "Run 1: Cost = 138957249_10776024, Time = 0.00 sec. \n",
      "\n",
      "* 1: Cost = 138957249_10776024, Time = 0.00 sec. \n",
      "Run 2: Cost = 138957249_10776024, Time = 0.00 sec. \n",
      "\n",
      "* 1: Cost = 138957249_10776024, Time = 0.00 sec. \n",
      "Run 3: Cost = 138957249_10776024, Time = 0.00 sec. \n",
      "\n",
      "* 1: Cost = 138957249_10776024, Time = 0.00 sec. \n",
      "Run 4: Cost = 138957249_10776024, Time = 0.00 sec. \n",
      "\n",
      "* 1: Cost = 138957249_10776024, Time = 0.00 sec. \n",
      "Run 5: Cost = 138957249_10776024, Time = 0.00 sec. \n",
      "\n",
      "* 1: Cost = 138957249_10776024, Time = 0.00 sec. \n",
      "Run 6: Cost = 138957249_10776024, Time = 0.00 sec. \n",
      "\n",
      "* 1: Cost = 138957249_10776024, Time = 0.00 sec. \n",
      "Run 7: Cost = 138957249_10776024, Time = 0.00 sec. \n",
      "\n",
      "* 1: Cost = 138957249_10776024, Time = 0.00 sec. \n",
      "Run 8: Cost = 138957249_10776024, Time = 0.00 sec. \n",
      "\n",
      "* 1: Cost = 138957249_10776024, Time = 0.00 sec. \n",
      "Run 9: Cost = 138957249_10776024, Time = 0.00 sec. \n",
      "\n",
      "* 1: Cost = 138957249_10776024, Time = 0.00 sec. \n",
      "Run 10: Cost = 138957249_10776024, Time = 0.00 sec. \n",
      "\n",
      "Successes/Runs = 0/10 \n",
      "Cost.min = 10776024, Cost.avg = 10776024.00, Cost.max = 10776024\n",
      "Gap.min = 0.0000%, Gap.avg = 0.0000%, Gap.max = 0.0000%\n",
      "Penalty.min = 138957249, Penalty.avg = 138957249.00, Penalty.max = 138957249\n",
      "Trials.min = 26, Trials.avg = 26.0, Trials.max = 26\n",
      "Time.min = 0.00 sec., Time.avg = 0.00 sec., Time.max = 0.00 sec.\n",
      "Best TSPTW solution:\n",
      "  Cost = 138957249_10776024\n",
      "\n",
      "\n",
      "\n"
     ]
    },
    {
     "ename": "TypeError",
     "evalue": "'NoneType' object is not iterable",
     "output_type": "error",
     "traceback": [
      "\u001b[0;31m---------------------------------------------------------------------------\u001b[0m",
      "\u001b[0;31mTypeError\u001b[0m                                 Traceback (most recent call last)",
      "\u001b[0;32m<ipython-input-87-18e948e14c94>\u001b[0m in \u001b[0;36m<module>\u001b[0;34m\u001b[0m\n\u001b[0;32m----> 1\u001b[0;31m \u001b[0mexecute\u001b[0m\u001b[0;34m(\u001b[0m\u001b[0;34m'data_12_4'\u001b[0m\u001b[0;34m)\u001b[0m\u001b[0;34m\u001b[0m\u001b[0;34m\u001b[0m\u001b[0m\n\u001b[0m",
      "\u001b[0;32m<ipython-input-86-21d13b3bba71>\u001b[0m in \u001b[0;36mexecute\u001b[0;34m(filename, desc)\u001b[0m\n\u001b[1;32m     28\u001b[0m     \u001b[0;32mif\u001b[0m \u001b[0mdesc\u001b[0m \u001b[0;32mis\u001b[0m \u001b[0;32mTrue\u001b[0m\u001b[0;34m:\u001b[0m\u001b[0;34m\u001b[0m\u001b[0;34m\u001b[0m\u001b[0m\n\u001b[1;32m     29\u001b[0m         \u001b[0mvis\u001b[0m\u001b[0;34m.\u001b[0m\u001b[0mprint_readable_description\u001b[0m\u001b[0;34m(\u001b[0m\u001b[0;34m)\u001b[0m\u001b[0;34m\u001b[0m\u001b[0;34m\u001b[0m\u001b[0m\n\u001b[0;32m---> 30\u001b[0;31m     \u001b[0;32mreturn\u001b[0m \u001b[0mvis\u001b[0m\u001b[0;34m.\u001b[0m\u001b[0mdraw_figure\u001b[0m\u001b[0;34m(\u001b[0m\u001b[0msave\u001b[0m\u001b[0;34m=\u001b[0m\u001b[0;32mFalse\u001b[0m\u001b[0;34m)\u001b[0m\u001b[0;34m\u001b[0m\u001b[0;34m\u001b[0m\u001b[0m\n\u001b[0m",
      "\u001b[0;32m<ipython-input-85-474869cc3144>\u001b[0m in \u001b[0;36mdraw_figure\u001b[0;34m(self, save)\u001b[0m\n\u001b[1;32m    327\u001b[0m \u001b[0;34m\u001b[0m\u001b[0m\n\u001b[1;32m    328\u001b[0m         \u001b[0;31m# Plot depot with maker layer\u001b[0m\u001b[0;34m\u001b[0m\u001b[0;34m\u001b[0m\u001b[0;34m\u001b[0m\u001b[0m\n\u001b[0;32m--> 329\u001b[0;31m         \u001b[0mlocations\u001b[0m \u001b[0;34m=\u001b[0m \u001b[0;34m[\u001b[0m\u001b[0mself\u001b[0m\u001b[0;34m.\u001b[0m\u001b[0mtsptw_data\u001b[0m\u001b[0;34m.\u001b[0m\u001b[0mdestinations\u001b[0m\u001b[0;34m[\u001b[0m\u001b[0mroute\u001b[0m \u001b[0;34m-\u001b[0m \u001b[0;36m1\u001b[0m\u001b[0;34m]\u001b[0m \u001b[0;32mfor\u001b[0m \u001b[0mroute\u001b[0m \u001b[0;32min\u001b[0m \u001b[0mself\u001b[0m\u001b[0;34m.\u001b[0m\u001b[0mtsptw_data\u001b[0m\u001b[0;34m.\u001b[0m\u001b[0moptimal_tsp\u001b[0m\u001b[0;34m]\u001b[0m\u001b[0;34m\u001b[0m\u001b[0;34m\u001b[0m\u001b[0m\n\u001b[0m\u001b[1;32m    330\u001b[0m         \u001b[0mlabels\u001b[0m \u001b[0;34m=\u001b[0m \u001b[0;34m[\u001b[0m\u001b[0mstr\u001b[0m\u001b[0;34m(\u001b[0m\u001b[0mi\u001b[0m\u001b[0;34m)\u001b[0m \u001b[0;32mif\u001b[0m \u001b[0mi\u001b[0m \u001b[0;34m!=\u001b[0m \u001b[0mself\u001b[0m\u001b[0;34m.\u001b[0m\u001b[0mtsptw_data\u001b[0m\u001b[0;34m.\u001b[0m\u001b[0mproblem\u001b[0m\u001b[0;34m[\u001b[0m\u001b[0;34m'depot'\u001b[0m\u001b[0;34m]\u001b[0m \u001b[0;32melse\u001b[0m \u001b[0;34m'Depot'\u001b[0m \u001b[0;32mfor\u001b[0m \u001b[0mi\u001b[0m \u001b[0;32min\u001b[0m \u001b[0mrange\u001b[0m\u001b[0;34m(\u001b[0m\u001b[0mlen\u001b[0m\u001b[0;34m(\u001b[0m\u001b[0mself\u001b[0m\u001b[0;34m.\u001b[0m\u001b[0mtsptw_data\u001b[0m\u001b[0;34m.\u001b[0m\u001b[0moptimal_tsp\u001b[0m\u001b[0;34m)\u001b[0m\u001b[0;34m)\u001b[0m\u001b[0;34m]\u001b[0m\u001b[0;34m\u001b[0m\u001b[0;34m\u001b[0m\u001b[0m\n\u001b[1;32m    331\u001b[0m         \u001b[0minfo_box_contents\u001b[0m \u001b[0;34m=\u001b[0m \u001b[0;34m[\u001b[0m\u001b[0;34m]\u001b[0m\u001b[0;34m\u001b[0m\u001b[0;34m\u001b[0m\u001b[0m\n",
      "\u001b[0;31mTypeError\u001b[0m: 'NoneType' object is not iterable"
     ]
    }
   ],
   "source": [
    "execute('data_12_4')"
   ]
  },
  {
   "cell_type": "code",
   "execution_count": null,
   "metadata": {},
   "outputs": [],
   "source": [
    "execute('data_12_12')"
   ]
  },
  {
   "cell_type": "code",
   "execution_count": 78,
   "metadata": {},
   "outputs": [
    {
     "name": "stdout",
     "output_type": "stream",
     "text": [
      "../format/8be23891-9047-4d2e-9997-ca9cd0842b40.tsptw\n"
     ]
    },
    {
     "ename": "TypeError",
     "evalue": "'NoneType' object is not iterable",
     "output_type": "error",
     "traceback": [
      "\u001b[0;31m---------------------------------------------------------------------------\u001b[0m",
      "\u001b[0;31mTypeError\u001b[0m                                 Traceback (most recent call last)",
      "\u001b[0;32m<ipython-input-78-5dd27557485e>\u001b[0m in \u001b[0;36m<module>\u001b[0;34m\u001b[0m\n\u001b[0;32m----> 1\u001b[0;31m \u001b[0mexecute\u001b[0m\u001b[0;34m(\u001b[0m\u001b[0;34m'data_9_2'\u001b[0m\u001b[0;34m)\u001b[0m\u001b[0;34m\u001b[0m\u001b[0;34m\u001b[0m\u001b[0m\n\u001b[0m",
      "\u001b[0;32m<ipython-input-75-21d13b3bba71>\u001b[0m in \u001b[0;36mexecute\u001b[0;34m(filename, desc)\u001b[0m\n\u001b[1;32m     28\u001b[0m     \u001b[0;32mif\u001b[0m \u001b[0mdesc\u001b[0m \u001b[0;32mis\u001b[0m \u001b[0;32mTrue\u001b[0m\u001b[0;34m:\u001b[0m\u001b[0;34m\u001b[0m\u001b[0;34m\u001b[0m\u001b[0m\n\u001b[1;32m     29\u001b[0m         \u001b[0mvis\u001b[0m\u001b[0;34m.\u001b[0m\u001b[0mprint_readable_description\u001b[0m\u001b[0;34m(\u001b[0m\u001b[0;34m)\u001b[0m\u001b[0;34m\u001b[0m\u001b[0;34m\u001b[0m\u001b[0m\n\u001b[0;32m---> 30\u001b[0;31m     \u001b[0;32mreturn\u001b[0m \u001b[0mvis\u001b[0m\u001b[0;34m.\u001b[0m\u001b[0mdraw_figure\u001b[0m\u001b[0;34m(\u001b[0m\u001b[0msave\u001b[0m\u001b[0;34m=\u001b[0m\u001b[0;32mFalse\u001b[0m\u001b[0;34m)\u001b[0m\u001b[0;34m\u001b[0m\u001b[0;34m\u001b[0m\u001b[0m\n\u001b[0m",
      "\u001b[0;32m<ipython-input-74-8bfa1fe227f9>\u001b[0m in \u001b[0;36mdraw_figure\u001b[0;34m(self, save)\u001b[0m\n\u001b[1;32m    331\u001b[0m \u001b[0;34m\u001b[0m\u001b[0m\n\u001b[1;32m    332\u001b[0m         \u001b[0;31m# Plot depot with maker layer\u001b[0m\u001b[0;34m\u001b[0m\u001b[0;34m\u001b[0m\u001b[0;34m\u001b[0m\u001b[0m\n\u001b[0;32m--> 333\u001b[0;31m         \u001b[0mlocations\u001b[0m \u001b[0;34m=\u001b[0m \u001b[0;34m[\u001b[0m\u001b[0mself\u001b[0m\u001b[0;34m.\u001b[0m\u001b[0mtsptw_data\u001b[0m\u001b[0;34m.\u001b[0m\u001b[0mdestinations\u001b[0m\u001b[0;34m[\u001b[0m\u001b[0mroute\u001b[0m \u001b[0;34m-\u001b[0m \u001b[0;36m1\u001b[0m\u001b[0;34m]\u001b[0m \u001b[0;32mfor\u001b[0m \u001b[0mroute\u001b[0m \u001b[0;32min\u001b[0m \u001b[0mself\u001b[0m\u001b[0;34m.\u001b[0m\u001b[0mtsptw_data\u001b[0m\u001b[0;34m.\u001b[0m\u001b[0moptimal_tsp\u001b[0m\u001b[0;34m]\u001b[0m\u001b[0;34m\u001b[0m\u001b[0;34m\u001b[0m\u001b[0m\n\u001b[0m\u001b[1;32m    334\u001b[0m         \u001b[0mlabels\u001b[0m \u001b[0;34m=\u001b[0m \u001b[0;34m[\u001b[0m\u001b[0mstr\u001b[0m\u001b[0;34m(\u001b[0m\u001b[0mi\u001b[0m\u001b[0;34m)\u001b[0m \u001b[0;32mif\u001b[0m \u001b[0mi\u001b[0m \u001b[0;34m!=\u001b[0m \u001b[0mself\u001b[0m\u001b[0;34m.\u001b[0m\u001b[0mtsptw_data\u001b[0m\u001b[0;34m.\u001b[0m\u001b[0mproblem\u001b[0m\u001b[0;34m[\u001b[0m\u001b[0;34m'depot'\u001b[0m\u001b[0;34m]\u001b[0m \u001b[0;32melse\u001b[0m \u001b[0;34m'Depot'\u001b[0m \u001b[0;32mfor\u001b[0m \u001b[0mi\u001b[0m \u001b[0;32min\u001b[0m \u001b[0mrange\u001b[0m\u001b[0;34m(\u001b[0m\u001b[0mlen\u001b[0m\u001b[0;34m(\u001b[0m\u001b[0mself\u001b[0m\u001b[0;34m.\u001b[0m\u001b[0mtsptw_data\u001b[0m\u001b[0;34m.\u001b[0m\u001b[0moptimal_tsp\u001b[0m\u001b[0;34m)\u001b[0m\u001b[0;34m)\u001b[0m\u001b[0;34m]\u001b[0m\u001b[0;34m\u001b[0m\u001b[0;34m\u001b[0m\u001b[0m\n\u001b[1;32m    335\u001b[0m         \u001b[0minfo_box_contents\u001b[0m \u001b[0;34m=\u001b[0m \u001b[0;34m[\u001b[0m\u001b[0;34m]\u001b[0m\u001b[0;34m\u001b[0m\u001b[0;34m\u001b[0m\u001b[0m\n",
      "\u001b[0;31mTypeError\u001b[0m: 'NoneType' object is not iterable"
     ]
    }
   ],
   "source": [
    "execute('data_9_2')"
   ]
  },
  {
   "cell_type": "code",
   "execution_count": null,
   "metadata": {},
   "outputs": [],
   "source": []
  }
 ],
 "metadata": {
  "kernelspec": {
   "display_name": "Python 3",
   "language": "python",
   "name": "python3"
  },
  "language_info": {
   "codemirror_mode": {
    "name": "ipython",
    "version": 3
   },
   "file_extension": ".py",
   "mimetype": "text/x-python",
   "name": "python",
   "nbconvert_exporter": "python",
   "pygments_lexer": "ipython3",
   "version": "3.7.4"
  }
 },
 "nbformat": 4,
 "nbformat_minor": 4
}
