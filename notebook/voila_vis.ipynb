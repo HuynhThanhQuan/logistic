{
 "cells": [
  {
   "cell_type": "code",
   "execution_count": 9,
   "metadata": {},
   "outputs": [],
   "source": [
    "%run static_data.ipynb\n",
    "%run solution.ipynb"
   ]
  },
  {
   "cell_type": "code",
   "execution_count": 10,
   "metadata": {},
   "outputs": [],
   "source": [
    "import ipywidgets as widgets\n",
    "from IPython.display import display\n",
    "from ipywidgets import interact, interactive, fixed, interact_manual\n",
    "import os\n",
    "import time\n",
    "\n",
    "data = None\n",
    "gg_map = None\n",
    "gg_data = None"
   ]
  },
  {
   "cell_type": "code",
   "execution_count": 11,
   "metadata": {},
   "outputs": [],
   "source": [
    "class GGMap:\n",
    "    def __init__(self, sub_data):\n",
    "        self.gg_map = sub_data\n",
    "        self.mapping()\n",
    "        \n",
    "    def mapping(self):\n",
    "        self.layers = self.gg_map['figure']._trait_values['_map'].layers[:]\n",
    "        self.makers = self.layers[0]\n",
    "        self.direction_layers = self.layers[1:]\n",
    "        self.current_data_bounds = self.gg_map['figure']._trait_values['_map']._trait_values['data_bounds'][:]\n",
    "        \n",
    "    def retain_direction_layer_with_index(self, idx):\n",
    "        self.direction_layers = self.layers[1:]\n",
    "        self.direction_layers = self.direction_layers[idx]\n",
    "        self.gg_map['figure']._trait_values['_map'].layers = [self.makers] + [self.direction_layers]\n",
    "#         self.gg_map['figure']._trait_values['_map']._trait_values['data_bounds'] = self.current_data_bounds\n",
    "        print(self.gg_map['figure']._trait_values['_map']._trait_values['data_bounds'])"
   ]
  },
  {
   "cell_type": "code",
   "execution_count": 12,
   "metadata": {},
   "outputs": [],
   "source": [
    "def create_expanded_button(description, button_style):\n",
    "    return widgets.Button(description=description, button_style=button_style, layout=widgets.Layout(height='auto', width='auto'))\n",
    "\n",
    "def handle_execute_btn(obj):\n",
    "    global tour_btn, data, gg_data\n",
    "    with output:\n",
    "        exe_btn.disabled = True\n",
    "        data = execute(w_select.value[:-4], metric='duration', layout='100%')\n",
    "        if data is not None:\n",
    "            map_cont = widgets.Box([data['figure']], layout=widgets.Layout(height='auto', width='auto', align_items='stretch'))\n",
    "            grid[:-2, 2:-1] = map_cont\n",
    "            tour_btn.options = data['route']\n",
    "            gg_data = GGMap(data)\n",
    "        time.sleep(1)\n",
    "    exe_btn.disabled = False\n",
    "        \n",
    "def handle_tour_select(change):\n",
    "    global gg_data\n",
    "    with output:\n",
    "        desc_map = dict(zip(data['route'], data['route_description']))\n",
    "        dir_btn.value = desc_map[tour_btn.value]\n",
    "        if gg_data:\n",
    "            gg_data.retain_direction_layer_with_index(int(tour_btn.value[:tour_btn.value.rfind(' ->')]))\n",
    "            map_cont = widgets.Box([data['figure']], layout=widgets.Layout(height='auto', width='auto', align_items='stretch'))\n",
    "            grid[:-2, 2:-1] = map_cont"
   ]
  },
  {
   "cell_type": "code",
   "execution_count": 13,
   "metadata": {},
   "outputs": [],
   "source": [
    "w_select = widgets.Select(\n",
    "    options=os.listdir('../data/tw_data/'),\n",
    "    value=None,\n",
    "    disabled=False, layout=widgets.Layout(height='100%', width='100%')\n",
    ")\n",
    "\n",
    "exe_btn = create_expanded_button('Execute', 'success')\n",
    "map_btn = widgets.Button(description='', button_style='', layout=widgets.Layout(height='auto', width='auto'))\n",
    "map_cont = widgets.Box([map_btn], layout=widgets.Layout(height='100%', width='100%', align_items='stretch'))\n",
    "tour_btn = widgets.Select(options=[], value=None, description='', disabled=False, layout=widgets.Layout(height='100%', width='100%'))\n",
    "dir_btn = widgets.HTML(value='Empty', placeholder='Empty', disabled=True, layout=widgets.Layout(height='auto', width='auto'))\n",
    "dir_cont = widgets.HBox([dir_btn], layout=widgets.Layout(height='100%', overflow_y='auto'))"
   ]
  },
  {
   "cell_type": "code",
   "execution_count": 14,
   "metadata": {},
   "outputs": [],
   "source": [
    "grid = widgets.GridspecLayout(10, 16, height='800px')\n",
    "grid[:-2, 2:-1] = map_cont\n",
    "grid[1:, :2] = w_select\n",
    "grid[0, :2] = exe_btn\n",
    "grid[:, -1:] = tour_btn\n",
    "grid[-2:, 2:-1] = dir_cont\n",
    "\n",
    "output = widgets.Output()\n",
    "exe_btn.on_click(handle_execute_btn)\n",
    "tour_btn.observe(handle_tour_select, names='value')"
   ]
  },
  {
   "cell_type": "code",
   "execution_count": 15,
   "metadata": {},
   "outputs": [
    {
     "data": {
      "application/vnd.jupyter.widget-view+json": {
       "model_id": "585f31357d09439388060a8d2ec041ac",
       "version_major": 2,
       "version_minor": 0
      },
      "text/plain": [
       "GridspecLayout(children=(Box(children=(Button(layout=Layout(height='auto', width='auto'), style=ButtonStyle())…"
      ]
     },
     "metadata": {},
     "output_type": "display_data"
    },
    {
     "data": {
      "application/vnd.jupyter.widget-view+json": {
       "model_id": "f633673b81704c3d81a8e6515bd60a50",
       "version_major": 2,
       "version_minor": 0
      },
      "text/plain": [
       "Output()"
      ]
     },
     "metadata": {},
     "output_type": "display_data"
    }
   ],
   "source": [
    "display(grid, output)"
   ]
  },
  {
   "cell_type": "code",
   "execution_count": null,
   "metadata": {},
   "outputs": [],
   "source": []
  }
 ],
 "metadata": {
  "kernelspec": {
   "display_name": "Python 3",
   "language": "python",
   "name": "python3"
  },
  "language_info": {
   "codemirror_mode": {
    "name": "ipython",
    "version": 3
   },
   "file_extension": ".py",
   "mimetype": "text/x-python",
   "name": "python",
   "nbconvert_exporter": "python",
   "pygments_lexer": "ipython3",
   "version": "3.7.6"
  }
 },
 "nbformat": 4,
 "nbformat_minor": 4
}
