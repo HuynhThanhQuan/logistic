{
 "cells": [
  {
   "cell_type": "code",
   "execution_count": 1,
   "metadata": {},
   "outputs": [],
   "source": [
    "%run static_data.ipynb\n",
    "%run solution.ipynb"
   ]
  },
  {
   "cell_type": "code",
   "execution_count": 2,
   "metadata": {},
   "outputs": [],
   "source": [
    "import ipywidgets as widgets\n",
    "from IPython.display import display\n",
    "from ipywidgets import interact, interactive, fixed, interact_manual\n",
    "import os\n",
    "import time\n",
    "\n",
    "data = None\n",
    "gg_map = None\n",
    "gg_data = None"
   ]
  },
  {
   "cell_type": "code",
   "execution_count": 3,
   "metadata": {},
   "outputs": [],
   "source": [
    "class GGMap:\n",
    "    def __init__(self, sub_data):\n",
    "        self.gg_map = sub_data\n",
    "        self.direction_layers = sub_data['route_layer_api']\n",
    "        self.mapping()\n",
    "        \n",
    "    def mapping(self):\n",
    "        self.layers = self.gg_map['figure']._trait_values['_map'].layers[:]\n",
    "        self.makers = self.layers[0]\n",
    "        self.current_data_bounds = self.gg_map['figure']._trait_values['_map']._trait_values['data_bounds'][:]\n",
    "        \n",
    "    def retain_direction_layer_with_index(self, idx):\n",
    "        select_direction_layer = self.direction_layers[idx]\n",
    "        self.gg_map['figure']._trait_values['_map'].layers = [self.makers] \n",
    "        self.gg_map['figure'].add_layer(select_direction_layer)\n",
    "#         self.gg_map['figure']._trait_values['_map']._trait_values['data_bounds'] = self.current_data_bounds\n",
    "#         print(self.gg_map['figure']._trait_values['_map']._trait_values['data_bounds'])\n",
    "    \n",
    "    def restore_origin_state(self):\n",
    "        time.sleep(1)\n",
    "        self.gg_map['figure']._trait_values['_map'].layers = [self.makers] \n",
    "        for direction_layer in self.direction_layers[:]:\n",
    "            self.gg_map['figure'].add_layer(direction_layer)\n",
    "            time.sleep(0.2)\n",
    "            \n",
    "    def display_section(self, direction_layers):\n",
    "        time.sleep(1)\n",
    "        self.gg_map['figure']._trait_values['_map'].layers = [self.makers] \n",
    "        for direction_layer in direction_layers:\n",
    "            self.gg_map['figure'].add_layer(direction_layer)\n",
    "            time.sleep(0.2)\n",
    "            \n",
    "    def display_markers_only(self):\n",
    "        time.sleep(1)\n",
    "        self.gg_map['figure']._trait_values['_map'].layers = [self.makers] "
   ]
  },
  {
   "cell_type": "code",
   "execution_count": 4,
   "metadata": {},
   "outputs": [],
   "source": [
    "def handle_execute_btn(obj):\n",
    "    global tour_btn, data, gg_data\n",
    "    with output:\n",
    "        if w_select:\n",
    "            exe_btn.disabled = True\n",
    "            data = execute(w_select.value[:-4], metric='duration', layout='100%')\n",
    "            if data is not None:\n",
    "                gg_data = GGMap(data)                \n",
    "                total_route = len(data['route'])\n",
    "                total_pages = total_route // 10 if (total_route % 10 == 0) else (total_route // 10) + 1\n",
    "                tour_btn.options = ['All'] + ['Route Set {}'.format(i + 1) for i in range(total_pages)] + data['route']\n",
    "                map_cont = widgets.Box([data['figure']], layout=widgets.Layout(height='auto', width='auto', align_items='stretch'))\n",
    "                grid[:-2, 2:-2] = map_cont\n",
    "            time.sleep(0.5)\n",
    "    exe_btn.disabled = False\n",
    "        \n",
    "def handle_tour_select(change):\n",
    "    global gg_data\n",
    "    with output:\n",
    "        if tour_btn.value == 'All':\n",
    "            dir_btn.value = 'Please select specific route to see'\n",
    "            if gg_data:\n",
    "                gg_data.display_markers_only()\n",
    "                map_cont = widgets.Box([data['figure']], layout=widgets.Layout(height='auto', width='auto', align_items='stretch'))\n",
    "                grid[:-2, 2:-2] = map_cont\n",
    "        elif 'Route' in tour_btn.value:\n",
    "            dir_btn.value = 'Please select specific route to see'\n",
    "            if gg_data:\n",
    "                section_id = int(tour_btn.value[-1]) - 1\n",
    "                section_range = range(section_id * 10, (section_id + 1) * 10 if len(data['route_layer_api']) >  (section_id + 1) * 10 else len(data['route_layer_api']))\n",
    "                section_layers = [data['route_layer_api'][i] for i in section_range]\n",
    "                gg_data.display_section(section_layers)\n",
    "                map_cont = widgets.Box([data['figure']], layout=widgets.Layout(height='auto', width='auto', align_items='stretch'))\n",
    "                grid[:-2, 2:-2] = map_cont\n",
    "        else:\n",
    "            desc_map = dict(zip(data['route'], data['route_description']))\n",
    "            dir_btn.value = desc_map[tour_btn.value]\n",
    "            if gg_data:\n",
    "                gg_data.retain_direction_layer_with_index(int(tour_btn.value[:tour_btn.value.rfind(' ->')]))\n",
    "                map_cont = widgets.Box([data['figure']], layout=widgets.Layout(height='auto', width='auto', align_items='stretch'))\n",
    "                grid[:-2, 2:-2] = map_cont"
   ]
  },
  {
   "cell_type": "code",
   "execution_count": 5,
   "metadata": {},
   "outputs": [],
   "source": [
    "w_select = widgets.Select(\n",
    "    options=os.listdir('../data/tw_data/'),\n",
    "    value=None,\n",
    "    disabled=False, layout=widgets.Layout(height='100%', width='100%')\n",
    ")\n",
    "\n",
    "exe_btn = widgets.Button(description='Execute', button_style='success', layout=widgets.Layout(height='auto', width='auto'))\n",
    "map_btn = widgets.Button(description='', button_style='', layout=widgets.Layout(height='auto', width='auto'))\n",
    "map_cont = widgets.Box([map_btn], layout=widgets.Layout(height='100%', width='100%', align_items='stretch'))\n",
    "tour_label = widgets.Label(value='Route from x to y (0 is depot)', layout=widgets.Layout(height='100%', width='100%'))\n",
    "tour_btn = widgets.Select(options=[], value=None, description='', disabled=False, layout=widgets.Layout(height='100%', width='100%'))\n",
    "dir_btn = widgets.HTML(value='', placeholder='Empty', disabled=True, layout=widgets.Layout(height='auto', width='auto'))\n",
    "dir_cont = widgets.HBox([dir_btn], layout=widgets.Layout(height='100%', overflow_y='auto'))"
   ]
  },
  {
   "cell_type": "code",
   "execution_count": 6,
   "metadata": {},
   "outputs": [],
   "source": [
    "grid = widgets.GridspecLayout(10, 16, height='900px')\n",
    "grid[:-2, 2:-1] = map_cont\n",
    "grid[1:, :2] = w_select\n",
    "grid[0, :2] = exe_btn\n",
    "grid[:1, -2:] = tour_label\n",
    "grid[1:, -2:] = tour_btn\n",
    "grid[-2:, 2:-2] = dir_cont\n",
    "\n",
    "output = widgets.Output()\n",
    "exe_btn.on_click(handle_execute_btn)\n",
    "tour_btn.observe(handle_tour_select, names='value')"
   ]
  },
  {
   "cell_type": "code",
   "execution_count": 7,
   "metadata": {},
   "outputs": [
    {
     "data": {
      "application/vnd.jupyter.widget-view+json": {
       "model_id": "0190e845b23744fd97223d5bae96cbe5",
       "version_major": 2,
       "version_minor": 0
      },
      "text/plain": [
       "GridspecLayout(children=(Select(layout=Layout(grid_area='widget002', height='100%', width='100%'), options=('d…"
      ]
     },
     "metadata": {},
     "output_type": "display_data"
    },
    {
     "data": {
      "application/vnd.jupyter.widget-view+json": {
       "model_id": "a3109504e8a7437292688c5434fe1783",
       "version_major": 2,
       "version_minor": 0
      },
      "text/plain": [
       "Output()"
      ]
     },
     "metadata": {},
     "output_type": "display_data"
    }
   ],
   "source": [
    "display(grid, output)"
   ]
  },
  {
   "cell_type": "code",
   "execution_count": null,
   "metadata": {},
   "outputs": [],
   "source": []
  }
 ],
 "metadata": {
  "kernelspec": {
   "display_name": "Python 3",
   "language": "python",
   "name": "python3"
  },
  "language_info": {
   "codemirror_mode": {
    "name": "ipython",
    "version": 3
   },
   "file_extension": ".py",
   "mimetype": "text/x-python",
   "name": "python",
   "nbconvert_exporter": "python",
   "pygments_lexer": "ipython3",
   "version": "3.7.4"
  }
 },
 "nbformat": 4,
 "nbformat_minor": 4
}
